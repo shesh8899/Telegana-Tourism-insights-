{
 "cells": [
  {
   "cell_type": "code",
   "execution_count": 1,
   "id": "278e6362",
   "metadata": {},
   "outputs": [],
   "source": [
    "import pandas as pd\n",
    "import matplotlib.pyplot as plt\n",
    "import seaborn as sns \n",
    "import numpy as np\n",
    "from statsmodels.tsa.arima.model import ARIMA\n",
    "import seaborn as sns\n",
    "pd.set_option('use_inf_as_na',True)"
   ]
  },
  {
   "cell_type": "markdown",
   "id": "9a4eb972",
   "metadata": {},
   "source": [
    "Reading the merged domestic visitors dataset"
   ]
  },
  {
   "cell_type": "code",
   "execution_count": 2,
   "id": "fd142480",
   "metadata": {},
   "outputs": [],
   "source": [
    "df=pd.read_csv('/Users/shashankpatil/Desktop/ResumeChallenge5/domestic_visitors1.csv')"
   ]
  },
  {
   "cell_type": "markdown",
   "id": "24c4b458",
   "metadata": {},
   "source": [
    "Converting the Visitor Column dataType to Integer"
   ]
  },
  {
   "cell_type": "code",
   "execution_count": 3,
   "id": "9942d460",
   "metadata": {},
   "outputs": [],
   "source": [
    "df['visitors']=pd.to_numeric(df['visitors'], errors='coerce')\n",
    "df['visitors']=pd.to_numeric(df['visitors'], errors='coerce')\n",
    "df['visitors']=df['visitors'].dropna()\n",
    "df['visitors']=df['visitors'].fillna(0)\n",
    "df['visitors']=df['visitors'].replace([np.inf,-np.inf],0)\n",
    "df['visitors'] = df['visitors'].astype(int)\n",
    "df['visitors'] = df['visitors']/1000000\n",
    "\n"
   ]
  },
  {
   "cell_type": "code",
   "execution_count": 4,
   "id": "45f20fdb",
   "metadata": {},
   "outputs": [
    {
     "data": {
      "text/plain": [
       "0       0.792136\n",
       "1       0.937820\n",
       "2       0.582946\n",
       "3       0.341948\n",
       "4       0.252887\n",
       "          ...   \n",
       "1315    0.389010\n",
       "1316    0.366862\n",
       "1317    0.381860\n",
       "1318    0.365990\n",
       "1319    0.477635\n",
       "Name: visitors, Length: 1320, dtype: float64"
      ]
     },
     "execution_count": 4,
     "metadata": {},
     "output_type": "execute_result"
    }
   ],
   "source": [
    "df['visitors']"
   ]
  },
  {
   "cell_type": "markdown",
   "id": "17da3bac",
   "metadata": {},
   "source": [
    "Top 10 districts having highest domestic visitors from 2016 to 2019"
   ]
  },
  {
   "cell_type": "code",
   "execution_count": 5,
   "id": "6f9ecad2",
   "metadata": {},
   "outputs": [
    {
     "data": {
      "text/plain": [
       "district\n",
       "Hyderabad                   83.900960\n",
       "Rajanna Sircilla            48.288276\n",
       "Yadadri Bhongir             32.077080\n",
       "Warangal (Urban)            30.726603\n",
       "Bhadradri Kothagudem        24.131132\n",
       "Medak                       20.542639\n",
       "Jayashankar Bhoopalpally    20.361865\n",
       "Mahbubnagar                 17.180118\n",
       "Nirmal                      15.475796\n",
       "Jagtial                     13.103514\n",
       "Name: visitors, dtype: float64"
      ]
     },
     "execution_count": 5,
     "metadata": {},
     "output_type": "execute_result"
    },
    {
     "data": {
      "image/png": "[encoded data removed]",
      "text/plain": [
       "<Figure size 432x288 with 1 Axes>"
      ]
     },
     "metadata": {
      "needs_background": "light"
     },
     "output_type": "display_data"
    }
   ],
   "source": [
    "df.groupby('district').visitors.sum().sort_values(ascending=False).head(10).plot(kind=\"bar\")\n",
    "df.groupby('district').visitors.sum().sort_values(ascending=False).head(10)"
   ]
  },
  {
   "cell_type": "markdown",
   "id": "34f37914",
   "metadata": {},
   "source": [
    "Calculating CAGR "
   ]
  },
  {
   "cell_type": "code",
   "execution_count": 14,
   "id": "85870d7d",
   "metadata": {},
   "outputs": [
    {
     "data": {
      "text/html": [
       "<div>\n",
       "<style scoped>\n",
       "    .dataframe tbody tr th:only-of-type {\n",
       "        vertical-align: middle;\n",
       "    }\n",
       "\n",
       "    .dataframe tbody tr th {\n",
       "        vertical-align: top;\n",
       "    }\n",
       "\n",
       "    .dataframe thead th {\n",
       "        text-align: right;\n",
       "    }\n",
       "</style>\n",
       "<table border=\"1\" class=\"dataframe\">\n",
       "  <thead>\n",
       "    <tr style=\"text-align: right;\">\n",
       "      <th>year</th>\n",
       "      <th>district</th>\n",
       "      <th>2016</th>\n",
       "      <th>2017</th>\n",
       "      <th>2018</th>\n",
       "      <th>2019</th>\n",
       "      <th>CAGR</th>\n",
       "    </tr>\n",
       "  </thead>\n",
       "  <tbody>\n",
       "    <tr>\n",
       "      <th>13</th>\n",
       "      <td>Mancherial</td>\n",
       "      <td>0.031202</td>\n",
       "      <td>0.191626</td>\n",
       "      <td>0.398004</td>\n",
       "      <td>0.269810</td>\n",
       "      <td>1.052541</td>\n",
       "    </tr>\n",
       "    <tr>\n",
       "      <th>20</th>\n",
       "      <td>Nizamabad</td>\n",
       "      <td>0.006442</td>\n",
       "      <td>0.021949</td>\n",
       "      <td>0.041423</td>\n",
       "      <td>0.046333</td>\n",
       "      <td>0.930293</td>\n",
       "    </tr>\n",
       "    <tr>\n",
       "      <th>26</th>\n",
       "      <td>Warangal (Rural)</td>\n",
       "      <td>0.077900</td>\n",
       "      <td>0.144250</td>\n",
       "      <td>0.302012</td>\n",
       "      <td>0.353500</td>\n",
       "      <td>0.655582</td>\n",
       "    </tr>\n",
       "    <tr>\n",
       "      <th>1</th>\n",
       "      <td>Bhadradri Kothagudem</td>\n",
       "      <td>3.419200</td>\n",
       "      <td>4.094317</td>\n",
       "      <td>3.799878</td>\n",
       "      <td>12.817737</td>\n",
       "      <td>0.553444</td>\n",
       "    </tr>\n",
       "    <tr>\n",
       "      <th>4</th>\n",
       "      <td>Jangaon</td>\n",
       "      <td>0.157660</td>\n",
       "      <td>0.165708</td>\n",
       "      <td>0.291022</td>\n",
       "      <td>0.328890</td>\n",
       "      <td>0.277742</td>\n",
       "    </tr>\n",
       "    <tr>\n",
       "      <th>24</th>\n",
       "      <td>Siddipet</td>\n",
       "      <td>1.433594</td>\n",
       "      <td>1.145721</td>\n",
       "      <td>1.283300</td>\n",
       "      <td>2.987864</td>\n",
       "      <td>0.277355</td>\n",
       "    </tr>\n",
       "    <tr>\n",
       "      <th>22</th>\n",
       "      <td>Rajanna Sircilla</td>\n",
       "      <td>8.701801</td>\n",
       "      <td>11.919347</td>\n",
       "      <td>10.834231</td>\n",
       "      <td>16.832897</td>\n",
       "      <td>0.245996</td>\n",
       "    </tr>\n",
       "    <tr>\n",
       "      <th>14</th>\n",
       "      <td>Medak</td>\n",
       "      <td>3.463200</td>\n",
       "      <td>7.726869</td>\n",
       "      <td>3.900000</td>\n",
       "      <td>5.452570</td>\n",
       "      <td>0.163343</td>\n",
       "    </tr>\n",
       "    <tr>\n",
       "      <th>23</th>\n",
       "      <td>Sangareddy</td>\n",
       "      <td>3.118000</td>\n",
       "      <td>2.823450</td>\n",
       "      <td>2.269900</td>\n",
       "      <td>4.553160</td>\n",
       "      <td>0.134520</td>\n",
       "    </tr>\n",
       "    <tr>\n",
       "      <th>21</th>\n",
       "      <td>Peddapalli</td>\n",
       "      <td>0.012244</td>\n",
       "      <td>0.014898</td>\n",
       "      <td>0.022254</td>\n",
       "      <td>0.016581</td>\n",
       "      <td>0.106358</td>\n",
       "    </tr>\n",
       "    <tr>\n",
       "      <th>3</th>\n",
       "      <td>Jagtial</td>\n",
       "      <td>2.423077</td>\n",
       "      <td>3.641401</td>\n",
       "      <td>3.952921</td>\n",
       "      <td>3.086115</td>\n",
       "      <td>0.083964</td>\n",
       "    </tr>\n",
       "    <tr>\n",
       "      <th>25</th>\n",
       "      <td>Wanaparthy</td>\n",
       "      <td>0.240138</td>\n",
       "      <td>0.244701</td>\n",
       "      <td>0.286600</td>\n",
       "      <td>0.298639</td>\n",
       "      <td>0.075380</td>\n",
       "    </tr>\n",
       "    <tr>\n",
       "      <th>19</th>\n",
       "      <td>Nirmal</td>\n",
       "      <td>3.076610</td>\n",
       "      <td>4.405083</td>\n",
       "      <td>4.177325</td>\n",
       "      <td>3.816778</td>\n",
       "      <td>0.074504</td>\n",
       "    </tr>\n",
       "    <tr>\n",
       "      <th>7</th>\n",
       "      <td>Kamareddy</td>\n",
       "      <td>0.000487</td>\n",
       "      <td>0.000540</td>\n",
       "      <td>0.000572</td>\n",
       "      <td>0.000534</td>\n",
       "      <td>0.031187</td>\n",
       "    </tr>\n",
       "    <tr>\n",
       "      <th>6</th>\n",
       "      <td>Jogulamba Gadwal</td>\n",
       "      <td>2.053401</td>\n",
       "      <td>2.245399</td>\n",
       "      <td>2.036545</td>\n",
       "      <td>2.007995</td>\n",
       "      <td>-0.007426</td>\n",
       "    </tr>\n",
       "    <tr>\n",
       "      <th>16</th>\n",
       "      <td>Nagarkurnool</td>\n",
       "      <td>2.298473</td>\n",
       "      <td>2.653645</td>\n",
       "      <td>2.088925</td>\n",
       "      <td>2.093312</td>\n",
       "      <td>-0.030685</td>\n",
       "    </tr>\n",
       "    <tr>\n",
       "      <th>5</th>\n",
       "      <td>Jayashankar Bhoopalpally</td>\n",
       "      <td>0.972400</td>\n",
       "      <td>1.831010</td>\n",
       "      <td>16.895925</td>\n",
       "      <td>0.662530</td>\n",
       "      <td>-0.120059</td>\n",
       "    </tr>\n",
       "    <tr>\n",
       "      <th>28</th>\n",
       "      <td>Yadadri Bhongir</td>\n",
       "      <td>6.912600</td>\n",
       "      <td>7.001728</td>\n",
       "      <td>13.673378</td>\n",
       "      <td>4.489374</td>\n",
       "      <td>-0.134006</td>\n",
       "    </tr>\n",
       "    <tr>\n",
       "      <th>10</th>\n",
       "      <td>Komaram Bheem Asifabad</td>\n",
       "      <td>0.030000</td>\n",
       "      <td>0.050991</td>\n",
       "      <td>0.022554</td>\n",
       "      <td>0.019189</td>\n",
       "      <td>-0.138391</td>\n",
       "    </tr>\n",
       "    <tr>\n",
       "      <th>2</th>\n",
       "      <td>Hyderabad</td>\n",
       "      <td>23.394705</td>\n",
       "      <td>27.160242</td>\n",
       "      <td>19.543651</td>\n",
       "      <td>13.802362</td>\n",
       "      <td>-0.161290</td>\n",
       "    </tr>\n",
       "    <tr>\n",
       "      <th>11</th>\n",
       "      <td>Mahabubabad</td>\n",
       "      <td>0.275002</td>\n",
       "      <td>0.141815</td>\n",
       "      <td>0.165995</td>\n",
       "      <td>0.152885</td>\n",
       "      <td>-0.177739</td>\n",
       "    </tr>\n",
       "    <tr>\n",
       "      <th>12</th>\n",
       "      <td>Mahbubnagar</td>\n",
       "      <td>8.304766</td>\n",
       "      <td>3.488229</td>\n",
       "      <td>2.852308</td>\n",
       "      <td>2.534815</td>\n",
       "      <td>-0.326704</td>\n",
       "    </tr>\n",
       "    <tr>\n",
       "      <th>9</th>\n",
       "      <td>Khammam</td>\n",
       "      <td>5.005031</td>\n",
       "      <td>1.542403</td>\n",
       "      <td>1.417441</td>\n",
       "      <td>1.413440</td>\n",
       "      <td>-0.343920</td>\n",
       "    </tr>\n",
       "    <tr>\n",
       "      <th>0</th>\n",
       "      <td>Adilabad</td>\n",
       "      <td>5.075557</td>\n",
       "      <td>0.825380</td>\n",
       "      <td>0.644743</td>\n",
       "      <td>0.775895</td>\n",
       "      <td>-0.465305</td>\n",
       "    </tr>\n",
       "    <tr>\n",
       "      <th>27</th>\n",
       "      <td>Warangal (Urban)</td>\n",
       "      <td>25.788035</td>\n",
       "      <td>1.420002</td>\n",
       "      <td>1.723336</td>\n",
       "      <td>1.795230</td>\n",
       "      <td>-0.588629</td>\n",
       "    </tr>\n",
       "    <tr>\n",
       "      <th>17</th>\n",
       "      <td>Nalgonda</td>\n",
       "      <td>5.858461</td>\n",
       "      <td>0.241916</td>\n",
       "      <td>0.160638</td>\n",
       "      <td>0.140918</td>\n",
       "      <td>-0.711335</td>\n",
       "    </tr>\n",
       "    <tr>\n",
       "      <th>8</th>\n",
       "      <td>Karimnagar</td>\n",
       "      <td>9.167468</td>\n",
       "      <td>0.123976</td>\n",
       "      <td>0.093448</td>\n",
       "      <td>0.077491</td>\n",
       "      <td>-0.796296</td>\n",
       "    </tr>\n",
       "    <tr>\n",
       "      <th>15</th>\n",
       "      <td>Mulugu</td>\n",
       "      <td>NaN</td>\n",
       "      <td>NaN</td>\n",
       "      <td>NaN</td>\n",
       "      <td>1.819800</td>\n",
       "      <td>NaN</td>\n",
       "    </tr>\n",
       "    <tr>\n",
       "      <th>18</th>\n",
       "      <td>Narayanpet</td>\n",
       "      <td>NaN</td>\n",
       "      <td>NaN</td>\n",
       "      <td>NaN</td>\n",
       "      <td>0.389250</td>\n",
       "      <td>NaN</td>\n",
       "    </tr>\n",
       "  </tbody>\n",
       "</table>\n",
       "</div>"
      ],
      "text/plain": [
       "year                  district       2016       2017       2018       2019  \\\n",
       "13                  Mancherial   0.031202   0.191626   0.398004   0.269810   \n",
       "20                   Nizamabad   0.006442   0.021949   0.041423   0.046333   \n",
       "26            Warangal (Rural)   0.077900   0.144250   0.302012   0.353500   \n",
       "1        Bhadradri Kothagudem    3.419200   4.094317   3.799878  12.817737   \n",
       "4                     Jangaon    0.157660   0.165708   0.291022   0.328890   \n",
       "24                    Siddipet   1.433594   1.145721   1.283300   2.987864   \n",
       "22           Rajanna Sircilla    8.701801  11.919347  10.834231  16.832897   \n",
       "14                      Medak    3.463200   7.726869   3.900000   5.452570   \n",
       "23                 Sangareddy    3.118000   2.823450   2.269900   4.553160   \n",
       "21                  Peddapalli   0.012244   0.014898   0.022254   0.016581   \n",
       "3                     Jagtial    2.423077   3.641401   3.952921   3.086115   \n",
       "25                 Wanaparthy    0.240138   0.244701   0.286600   0.298639   \n",
       "19                      Nirmal   3.076610   4.405083   4.177325   3.816778   \n",
       "7                   Kamareddy    0.000487   0.000540   0.000572   0.000534   \n",
       "6            Jogulamba Gadwal    2.053401   2.245399   2.036545   2.007995   \n",
       "16               Nagarkurnool    2.298473   2.653645   2.088925   2.093312   \n",
       "5     Jayashankar Bhoopalpally   0.972400   1.831010  16.895925   0.662530   \n",
       "28             Yadadri Bhongir   6.912600   7.001728  13.673378   4.489374   \n",
       "10      Komaram Bheem Asifabad   0.030000   0.050991   0.022554   0.019189   \n",
       "2                    Hyderabad  23.394705  27.160242  19.543651  13.802362   \n",
       "11                Mahabubabad    0.275002   0.141815   0.165995   0.152885   \n",
       "12                 Mahbubnagar   8.304766   3.488229   2.852308   2.534815   \n",
       "9                      Khammam   5.005031   1.542403   1.417441   1.413440   \n",
       "0                     Adilabad   5.075557   0.825380   0.644743   0.775895   \n",
       "27            Warangal (Urban)  25.788035   1.420002   1.723336   1.795230   \n",
       "17                    Nalgonda   5.858461   0.241916   0.160638   0.140918   \n",
       "8                  Karimnagar    9.167468   0.123976   0.093448   0.077491   \n",
       "15                      Mulugu        NaN        NaN        NaN   1.819800   \n",
       "18                  Narayanpet        NaN        NaN        NaN   0.389250   \n",
       "\n",
       "year      CAGR  \n",
       "13    1.052541  \n",
       "20    0.930293  \n",
       "26    0.655582  \n",
       "1     0.553444  \n",
       "4     0.277742  \n",
       "24    0.277355  \n",
       "22    0.245996  \n",
       "14    0.163343  \n",
       "23    0.134520  \n",
       "21    0.106358  \n",
       "3     0.083964  \n",
       "25    0.075380  \n",
       "19    0.074504  \n",
       "7     0.031187  \n",
       "6    -0.007426  \n",
       "16   -0.030685  \n",
       "5    -0.120059  \n",
       "28   -0.134006  \n",
       "10   -0.138391  \n",
       "2    -0.161290  \n",
       "11   -0.177739  \n",
       "12   -0.326704  \n",
       "9    -0.343920  \n",
       "0    -0.465305  \n",
       "27   -0.588629  \n",
       "17   -0.711335  \n",
       "8    -0.796296  \n",
       "15         NaN  \n",
       "18         NaN  "
      ]
     },
     "execution_count": 14,
     "metadata": {},
     "output_type": "execute_result"
    }
   ],
   "source": [
    "df= df[(df['year'] >= 2016) & (df['year'] <= 2019)]\n",
    "df_grouped = df.groupby(['district', 'year'])['visitors'].sum().reset_index()\n",
    "df_pivot = df_grouped.pivot(index='district', columns='year', values='visitors').reset_index()\n",
    "df_pivot['CAGR'] = (df_pivot[2019]/df_pivot[2016])**(1/3)-1\n",
    "df_sorted = df_pivot.sort_values('CAGR', ascending=False)\n",
    "df_sorted"
   ]
  },
  {
   "cell_type": "code",
   "execution_count": 7,
   "id": "3fd46828",
   "metadata": {},
   "outputs": [],
   "source": [
    "df1=pd.read_csv('/Users/shashankpatil/Desktop/ResumeChallenge5/foreign_visitors1.csv')\n",
    "df1['visitors']=pd.to_numeric(df1['visitors'], errors='coerce')\n",
    "df1['visitors']=df1['visitors'].dropna()\n",
    "df1['visitors']=df1['visitors'].fillna(0)\n",
    "df1['visitors']=df1['visitors'].replace([np.inf,-np.inf],0)\n",
    "df1['visitors']=df1['visitors'].astype(int)\n",
    "df1['visitors']=df1['visitors']/1000000"
   ]
  },
  {
   "cell_type": "code",
   "execution_count": 8,
   "id": "08fa8a38",
   "metadata": {},
   "outputs": [
    {
     "data": {
      "text/html": [
       "<div>\n",
       "<style scoped>\n",
       "    .dataframe tbody tr th:only-of-type {\n",
       "        vertical-align: middle;\n",
       "    }\n",
       "\n",
       "    .dataframe tbody tr th {\n",
       "        vertical-align: top;\n",
       "    }\n",
       "\n",
       "    .dataframe thead th {\n",
       "        text-align: right;\n",
       "    }\n",
       "</style>\n",
       "<table border=\"1\" class=\"dataframe\">\n",
       "  <thead>\n",
       "    <tr style=\"text-align: right;\">\n",
       "      <th>year</th>\n",
       "      <th>district</th>\n",
       "      <th>2016</th>\n",
       "      <th>2017</th>\n",
       "      <th>2018</th>\n",
       "      <th>2019</th>\n",
       "      <th>CAGR</th>\n",
       "    </tr>\n",
       "  </thead>\n",
       "  <tbody>\n",
       "    <tr>\n",
       "      <th>2</th>\n",
       "      <td>Hyderabad</td>\n",
       "      <td>0.163631</td>\n",
       "      <td>0.247179</td>\n",
       "      <td>0.314788</td>\n",
       "      <td>0.319300</td>\n",
       "      <td>0.181907</td>\n",
       "    </tr>\n",
       "    <tr>\n",
       "      <th>16</th>\n",
       "      <td>Nagarkurnool</td>\n",
       "      <td>0.000119</td>\n",
       "      <td>0.000311</td>\n",
       "      <td>0.000222</td>\n",
       "      <td>0.000199</td>\n",
       "      <td>0.137173</td>\n",
       "    </tr>\n",
       "    <tr>\n",
       "      <th>6</th>\n",
       "      <td>Jogulamba Gadwal</td>\n",
       "      <td>0.000180</td>\n",
       "      <td>0.000305</td>\n",
       "      <td>0.000300</td>\n",
       "      <td>0.000295</td>\n",
       "      <td>0.131455</td>\n",
       "    </tr>\n",
       "    <tr>\n",
       "      <th>27</th>\n",
       "      <td>Warangal (Urban)</td>\n",
       "      <td>0.001899</td>\n",
       "      <td>0.002630</td>\n",
       "      <td>0.001842</td>\n",
       "      <td>0.002450</td>\n",
       "      <td>0.065762</td>\n",
       "    </tr>\n",
       "    <tr>\n",
       "      <th>0</th>\n",
       "      <td>Adilabad</td>\n",
       "      <td>0.000034</td>\n",
       "      <td>0.000038</td>\n",
       "      <td>0.000005</td>\n",
       "      <td>0.000024</td>\n",
       "      <td>-0.083393</td>\n",
       "    </tr>\n",
       "    <tr>\n",
       "      <th>12</th>\n",
       "      <td>Mahbubnagar</td>\n",
       "      <td>0.000868</td>\n",
       "      <td>0.000520</td>\n",
       "      <td>0.000454</td>\n",
       "      <td>0.000440</td>\n",
       "      <td>-0.156212</td>\n",
       "    </tr>\n",
       "    <tr>\n",
       "      <th>5</th>\n",
       "      <td>Jayashankar Bhoopalpally</td>\n",
       "      <td>0.000338</td>\n",
       "      <td>0.000582</td>\n",
       "      <td>0.000539</td>\n",
       "      <td>0.000045</td>\n",
       "      <td>-0.395949</td>\n",
       "    </tr>\n",
       "    <tr>\n",
       "      <th>4</th>\n",
       "      <td>Jangaon</td>\n",
       "      <td>0.000002</td>\n",
       "      <td>0.000000</td>\n",
       "      <td>0.000000</td>\n",
       "      <td>0.000000</td>\n",
       "      <td>-1.000000</td>\n",
       "    </tr>\n",
       "  </tbody>\n",
       "</table>\n",
       "</div>"
      ],
      "text/plain": [
       "year                  district      2016      2017      2018      2019  \\\n",
       "2                    Hyderabad  0.163631  0.247179  0.314788  0.319300   \n",
       "16               Nagarkurnool   0.000119  0.000311  0.000222  0.000199   \n",
       "6            Jogulamba Gadwal   0.000180  0.000305  0.000300  0.000295   \n",
       "27            Warangal (Urban)  0.001899  0.002630  0.001842  0.002450   \n",
       "0                     Adilabad  0.000034  0.000038  0.000005  0.000024   \n",
       "12                 Mahbubnagar  0.000868  0.000520  0.000454  0.000440   \n",
       "5     Jayashankar Bhoopalpally  0.000338  0.000582  0.000539  0.000045   \n",
       "4                     Jangaon   0.000002  0.000000  0.000000  0.000000   \n",
       "\n",
       "year      CAGR  \n",
       "2     0.181907  \n",
       "16    0.137173  \n",
       "6     0.131455  \n",
       "27    0.065762  \n",
       "0    -0.083393  \n",
       "12   -0.156212  \n",
       "5    -0.395949  \n",
       "4    -1.000000  "
      ]
     },
     "execution_count": 8,
     "metadata": {},
     "output_type": "execute_result"
    }
   ],
   "source": [
    "df_for= df1[(df1['year'] >= 2016) & (df1['year'] <= 2019)]\n",
    "df_grouped1 = df_for.groupby(['district', 'year'])['visitors'].sum().reset_index()\n",
    "df_pivot1= df_grouped1.pivot(index='district', columns='year', values='visitors').reset_index()\n",
    "df_pivot1['CAGR'] = (df_pivot1[2019]/df_pivot1[2016])**(1/4)-1\n",
    "df_sorted1= df_pivot1.sort_values('CAGR', ascending=False)\n",
    "df_sorted1.head(8)\n"
   ]
  },
  {
   "cell_type": "markdown",
   "id": "216ade11",
   "metadata": {},
   "source": [
    "Top 3 district based of CAGR of domestic visitors"
   ]
  },
  {
   "cell_type": "code",
   "execution_count": 9,
   "id": "d676e54b",
   "metadata": {},
   "outputs": [
    {
     "data": {
      "image/png": "[encoded data removed]",
      "text/plain": [
       "<Figure size 432x288 with 1 Axes>"
      ]
     },
     "metadata": {
      "needs_background": "light"
     },
     "output_type": "display_data"
    }
   ],
   "source": [
    "top_3_districts_dom= df_sorted['district'][:3].tolist()\n",
    "top_3_districts_dom\n",
    "labels=['Mancherial', 'Nizamabad', 'Warangal (Rural)']#,'Karimnagar ', 'Nalgonda', 'Warangal (Urban)']\n",
    "values=[71.48, 63.76,45.95]#-69.67, -60.61, -48.63]\n",
    "plt.bar(labels,values)\n",
    "plt.xticks(rotation=45)\n",
    "for i, v in enumerate(values):\n",
    "    plt.text(i, v + 0.5, \"{:.1f}%\".format(v), ha='center',fontsize=12)\n",
    "plt.show()"
   ]
  },
  {
   "cell_type": "markdown",
   "id": "ea204ffa",
   "metadata": {},
   "source": [
    "Top 3 district based of CAGR of foreign visitors"
   ]
  },
  {
   "cell_type": "code",
   "execution_count": 10,
   "id": "10fccfdf",
   "metadata": {},
   "outputs": [
    {
     "data": {
      "image/png": "[encoded data removed]",
      "text/plain": [
       "<Figure size 432x288 with 1 Axes>"
      ]
     },
     "metadata": {
      "needs_background": "light"
     },
     "output_type": "display_data"
    }
   ],
   "source": [
    "top_3_districts_for=df_sorted1['district'][:3].tolist()\n",
    "top_3_districts_for\n",
    "labels=['Hyderabad', 'Nagarkurnool ', 'Jogulamba Gadwal ']#,'Karimnagar ', 'Nalgonda', 'Warangal (Urban)']\n",
    "values=[18.19,13.71,13.14]#-69.67, -60.61, -48.63]\n",
    "plt.bar(labels,values)\n",
    "plt.xticks(rotation=45)\n",
    "for i, v in enumerate(values):\n",
    "    plt.text(i, v , \"{:.1f}%\".format(v), ha='center',fontsize=12)\n",
    "plt.show()"
   ]
  },
  {
   "cell_type": "markdown",
   "id": "9bba7dcb",
   "metadata": {},
   "source": [
    "Bottom 3 district based of CAGR of domestic visitors"
   ]
  },
  {
   "cell_type": "code",
   "execution_count": 11,
   "id": "cbc9dc69",
   "metadata": {},
   "outputs": [
    {
     "data": {
      "image/png": "[encoded data removed]",
      "text/plain": [
       "<Figure size 432x288 with 1 Axes>"
      ]
     },
     "metadata": {
      "needs_background": "light"
     },
     "output_type": "display_data"
    }
   ],
   "source": [
    "df_sorted = df_pivot.sort_values('CAGR',ascending=True)\n",
    "Bottom_3_districts_dom = df_sorted['district'][:3].tolist()\n",
    "Bottom_3_districts_dom\n",
    "labels=['Karimnagar ', 'Nalgonda', 'Warangal (Urban)']\n",
    "values=[-69.67, -60.61, -48.63]\n",
    "plt.bar(labels,values,color=['red'])\n",
    "plt.xticks(rotation=45)\n",
    "for i, v in enumerate(values):\n",
    "    plt.text(i, v + 0.5, \"{:.1f}%\".format(v), ha='center',fontsize=12)\n",
    "plt.show()\n"
   ]
  },
  {
   "cell_type": "code",
   "execution_count": 12,
   "id": "ddcf0659",
   "metadata": {},
   "outputs": [
    {
     "ename": "SyntaxError",
     "evalue": "invalid syntax (3720991353.py, line 1)",
     "output_type": "error",
     "traceback": [
      "\u001b[0;36m  Input \u001b[0;32mIn [12]\u001b[0;36m\u001b[0m\n\u001b[0;31m    Bottom 3 district based of CAGR of foreign visitors\u001b[0m\n\u001b[0m           ^\u001b[0m\n\u001b[0;31mSyntaxError\u001b[0m\u001b[0;31m:\u001b[0m invalid syntax\n"
     ]
    }
   ],
   "source": [
    "Bottom 3 district based of CAGR of foreign visitors"
   ]
  },
  {
   "cell_type": "code",
   "execution_count": 13,
   "id": "e53586a8",
   "metadata": {},
   "outputs": [
    {
     "data": {
      "image/png": "[encoded data removed]",
      "text/plain": [
       "<Figure size 432x288 with 1 Axes>"
      ]
     },
     "metadata": {
      "needs_background": "light"
     },
     "output_type": "display_data"
    }
   ],
   "source": [
    "df_sorted = df_pivot1.sort_values('CAGR',ascending=True)\n",
    "Bottom_3_districts_for= df_sorted['district'][1:4].tolist()\n",
    "Bottom_3_districts_for\n",
    "labels=['Jayashankar Bhoopalpally', 'Mahbubnagar','Adilabad'] #,'Karimnagar ', 'Nalgonda', 'Warangal (Urban)']\n",
    "values=[-39.59,-15.62,-8.33]#-69.67, -60.61, -48.63]\n",
    "plt.bar(labels,values,color='red')\n",
    "plt.xticks(rotation=45)\n",
    "for i, v in enumerate(values):\n",
    "    plt.text(i, v , \"{:.2f}%\".format(v), ha='center',fontsize=12)\n",
    "plt.show()"
   ]
  },
  {
   "cell_type": "markdown",
   "id": "5f3196b1",
   "metadata": {},
   "source": [
    "Month which has highest number of visitors"
   ]
  },
  {
   "cell_type": "code",
   "execution_count": 14,
   "id": "84a7b0c6",
   "metadata": {},
   "outputs": [
    {
     "data": {
      "text/plain": [
       "<AxesSubplot:xlabel='month'>"
      ]
     },
     "execution_count": 14,
     "metadata": {},
     "output_type": "execute_result"
    },
    {
     "data": {
      "image/png": "[encoded data removed]",
      "text/plain": [
       "<Figure size 432x288 with 1 Axes>"
      ]
     },
     "metadata": {
      "needs_background": "light"
     },
     "output_type": "display_data"
    }
   ],
   "source": [
    "filt=df[df['district']=='Hyderabad'][['month','visitors']]\n",
    "filt.groupby('month').visitors.sum().sort_values(ascending=False).plot()"
   ]
  },
  {
   "cell_type": "code",
   "execution_count": 15,
   "id": "4d3828fc",
   "metadata": {},
   "outputs": [
    {
     "ename": "SyntaxError",
     "evalue": "invalid syntax (1194396414.py, line 1)",
     "output_type": "error",
     "traceback": [
      "\u001b[0;36m  Input \u001b[0;32mIn [15]\u001b[0;36m\u001b[0m\n\u001b[0;31m    Month which has lowest number of visitors\u001b[0m\n\u001b[0m          ^\u001b[0m\n\u001b[0;31mSyntaxError\u001b[0m\u001b[0;31m:\u001b[0m invalid syntax\n"
     ]
    }
   ],
   "source": [
    "Month which has lowest number of visitors "
   ]
  },
  {
   "cell_type": "code",
   "execution_count": 16,
   "id": "582cb35e",
   "metadata": {},
   "outputs": [
    {
     "data": {
      "text/plain": [
       "<AxesSubplot:xlabel='month'>"
      ]
     },
     "execution_count": 16,
     "metadata": {},
     "output_type": "execute_result"
    },
    {
     "data": {
      "image/png": "[encoded data removed]",
      "text/plain": [
       "<Figure size 432x288 with 1 Axes>"
      ]
     },
     "metadata": {
      "needs_background": "light"
     },
     "output_type": "display_data"
    }
   ],
   "source": [
    "filt=df[df['district']=='Hyderabad'][['month','visitors']]\n",
    "filt.groupby('month').visitors.sum().sort_values(ascending=True).plot()\n"
   ]
  },
  {
   "cell_type": "code",
   "execution_count": 17,
   "id": "f209e665",
   "metadata": {},
   "outputs": [],
   "source": [
    "df1=pd.read_csv('/Users/shashankpatil/Desktop/ResumeChallenge5/foreign_visitors1.csv')\n",
    "df1['visitors']=pd.to_numeric(df1['visitors'], errors='coerce')\n",
    "df1['visitors']=df1['visitors'].dropna()\n",
    "df1['visitors']=df1['visitors'].fillna(0)\n",
    "df1['visitors']=df1['visitors'].replace([np.inf,-np.inf],0)\n",
    "df1['visitors']=df1['visitors'].astype(int)\n",
    "df1['visitors']=df1['visitors']/1000000\n"
   ]
  },
  {
   "cell_type": "code",
   "execution_count": 18,
   "id": "d7412ead",
   "metadata": {},
   "outputs": [],
   "source": [
    "dom=df.groupby('district').visitors.sum()\n",
    "fori=df1.groupby('district').visitors.sum()\n",
    "dom=pd.DataFrame(dom)\n",
    "fori=pd.DataFrame(fori)"
   ]
  },
  {
   "cell_type": "markdown",
   "id": "01d9bdc7",
   "metadata": {},
   "source": [
    "ratio of top 3 district with highest domestic to foreign visitor"
   ]
  },
  {
   "cell_type": "code",
   "execution_count": 19,
   "id": "d2a7bf1e",
   "metadata": {},
   "outputs": [
    {
     "data": {
      "text/plain": [
       "<AxesSubplot:title={'center':'ratio of top 3 districts with highest domestic visitor to foreign visitor'}, ylabel='visitors'>"
      ]
     },
     "execution_count": 19,
     "metadata": {},
     "output_type": "execute_result"
    },
    {
     "data": {
      "image/png": "[encoded data removed]",
      "text/plain": [
       "<Figure size 432x288 with 1 Axes>"
      ]
     },
     "metadata": {},
     "output_type": "display_data"
    }
   ],
   "source": [
    "ratio=dom['visitors']/fori['visitors']\n",
    "ratio=ratio.fillna(0)\n",
    "ratio.sort_values(ascending=False).head(3)\n",
    "ratio.sort_values(ascending=False).head(3).plot(kind=\"pie\",title=\"ratio of top 3 districts with highest domestic visitor to foreign visitor\")"
   ]
  },
  {
   "cell_type": "markdown",
   "id": "15057f2b",
   "metadata": {},
   "source": [
    "ratio of bottom 3 district with lowest domestic to foreign visito"
   ]
  },
  {
   "cell_type": "code",
   "execution_count": 20,
   "id": "02514444",
   "metadata": {},
   "outputs": [
    {
     "data": {
      "text/plain": [
       "<AxesSubplot:title={'center':'ratio of bottom 3 districts with  lowest domestic visitor to foreign visitor'}, ylabel='visitors'>"
      ]
     },
     "execution_count": 20,
     "metadata": {},
     "output_type": "execute_result"
    },
    {
     "data": {
      "image/png": "[encoded data removed]",
      "text/plain": [
       "<Figure size 432x288 with 1 Axes>"
      ]
     },
     "metadata": {},
     "output_type": "display_data"
    }
   ],
   "source": [
    "ratio=ratio[~(ratio.sort_values()==0)]\n",
    "ratio.sort_values().head(3).plot(kind=\"pie\",title=\"ratio of bottom 3 districts with  lowest domestic visitor to foreign visitor\")\n"
   ]
  },
  {
   "cell_type": "code",
   "execution_count": 21,
   "id": "2c47fb4d",
   "metadata": {},
   "outputs": [],
   "source": [
    "#ratio.sort_values().head(3).plot(kind=\"pie\",title=\"ratio of lowest domestic visitor to foreign visitor\")\n"
   ]
  },
  {
   "cell_type": "code",
   "execution_count": 23,
   "id": "ed4d2e1d",
   "metadata": {},
   "outputs": [],
   "source": [
    "df_new=pd.read_csv('/Users/shashankpatil/Desktop/ResumeChallenge5/visitor_population2.csv')"
   ]
  },
  {
   "cell_type": "markdown",
   "id": "b260ff8c",
   "metadata": {},
   "source": [
    "top 5 distrct having highest population to tourist footfall ratio"
   ]
  },
  {
   "cell_type": "code",
   "execution_count": 25,
   "id": "72ce8bd4",
   "metadata": {},
   "outputs": [
    {
     "data": {
      "image/png": "[encoded data removed]",
      "text/plain": [
       "<Figure size 432x288 with 1 Axes>"
      ]
     },
     "metadata": {
      "needs_background": "light"
     },
     "output_type": "display_data"
    },
    {
     "data": {
      "text/plain": [
       "district\n",
       "Rajanna Sircilla         30.492335\n",
       "Bhadradri Kothagudem     11.987473\n",
       "Medak                     7.104992\n",
       "Mulugu                    7.062725\n",
       "Yadadri Bhongir           6.071250\n",
       "Name: tourist_footfal_ratio, dtype: float64"
      ]
     },
     "execution_count": 25,
     "metadata": {},
     "output_type": "execute_result"
    }
   ],
   "source": [
    "df_new.rename(columns={'visitor':'visitors'},inplace=True)\n",
    "df_new['tourist_footfal_ratio']=df_new['visitors']/df_new['Population']\n",
    "top_5_districts_tourist_footfall_ratio=df_new.groupby('district').tourist_footfal_ratio.sum().sort_values(ascending=False).head(5)\n",
    "top_5_districts_tourist_footfall_ratio\n",
    "labels=list(top_5_districts_tourist_footfall_ratio.index)\n",
    "values=list(top_5_districts_tourist_footfall_ratio[0:])\n",
    "plt.bar(labels,values)\n",
    "plt.xticks(rotation=45)\n",
    "plt.title(\"top 5 district having highest population to tourist footfall ratio\")\n",
    "for i, v in enumerate(values):\n",
    "    plt.text(i, v , \"{:.1f}\".format(v), ha='center',fontsize=12)\n",
    "plt.show()\n",
    "top_5_districts_tourist_footfall_ratio"
   ]
  },
  {
   "cell_type": "code",
   "execution_count": 26,
   "id": "82649a40",
   "metadata": {},
   "outputs": [
    {
     "data": {
      "image/png": "[encoded data removed]",
      "text/plain": [
       "<Figure size 432x288 with 1 Axes>"
      ]
     },
     "metadata": {
      "needs_background": "light"
     },
     "output_type": "display_data"
    },
    {
     "data": {
      "text/plain": [
       "['Kamareddy ',\n",
       " 'Peddapalli',\n",
       " 'Nizamabad',\n",
       " 'Komaram Bheem Asifabad',\n",
       " 'Karimnagar ']"
      ]
     },
     "execution_count": 26,
     "metadata": {},
     "output_type": "execute_result"
    }
   ],
   "source": [
    "bottom_5_districts_tourist_footfall_ratio=df_new.groupby('district').tourist_footfal_ratio.sum().sort_values().head(5)\n",
    "bottom_5_districts_tourist_footfall_ratio\n",
    "labels=list(bottom_5_districts_tourist_footfall_ratio.index)\n",
    "values=list(bottom_5_districts_tourist_footfall_ratio[0:])\n",
    "plt.bar(labels,values)\n",
    "plt.xticks(rotation=45)\n",
    "plt.title(\"bottom 5 district having lowest population to tourist footfall ratio\")\n",
    "for i, v in enumerate(values):\n",
    "    plt.text(i, v , \"{:.2f}\".format(v), ha='center',fontsize=12)\n",
    "plt.show()\n",
    "top_5_districts_tourist_footfall_ratio\n",
    "labels"
   ]
  },
  {
   "cell_type": "code",
   "execution_count": 27,
   "id": "dd3961ed",
   "metadata": {},
   "outputs": [
    {
     "data": {
      "image/png": "[encoded data removed]",
      "text/plain": [
       "<Figure size 432x288 with 1 Axes>"
      ]
     },
     "metadata": {
      "needs_background": "light"
     },
     "output_type": "display_data"
    }
   ],
   "source": [
    "v=list(top_5_districts_tourist_footfall_ratio[0:5])\n",
    "v1=list(bottom_5_districts_tourist_footfall_ratio[0:5])\n",
    "v2=v+v1\n",
    "v2\n",
    "d=list(top_5_districts_tourist_footfall_ratio.index)\n",
    "d1=list(bottom_5_districts_tourist_footfall_ratio.index)\n",
    "d2=d+d1\n",
    "plt.plot(d2,v2)\n",
    "plt.title('Tourist Footfall Ratio for top 5 and bottom 5 Districts')\n",
    "plt.xlabel('District')\n",
    "plt.ylabel('Tourist Footfall Ratio')\n",
    "plt.xticks(rotation=45,fontsize=8)\n",
    "plt.show()"
   ]
  },
  {
   "cell_type": "code",
   "execution_count": 28,
   "id": "e209a256",
   "metadata": {},
   "outputs": [
    {
     "data": {
      "text/plain": [
       "['Rajanna Sircilla ',\n",
       " 'Bhadradri Kothagudem ',\n",
       " 'Medak ',\n",
       " 'Mulugu',\n",
       " 'Yadadri Bhongir']"
      ]
     },
     "execution_count": 28,
     "metadata": {},
     "output_type": "execute_result"
    }
   ],
   "source": [
    "filt=df[df['district']=='Hyderabad'][['date','month','year','visitors']]\n",
    "filt1=df1[df1['district']=='Hyderabad'][['date','month','year','visitors']]\n",
    "\n",
    "d"
   ]
  },
  {
   "cell_type": "markdown",
   "id": "7d691c88",
   "metadata": {},
   "source": [
    "Projected number of foreign domestic visitor to Hyderabad district in 2025 "
   ]
  },
  {
   "cell_type": "code",
   "execution_count": 29,
   "id": "6125734d",
   "metadata": {},
   "outputs": [],
   "source": [
    "filt['date'] = pd.to_datetime(filt['date'])\n",
    "filt.set_index('date', inplace=True)\n",
    "filt1['date'] = pd.to_datetime(filt1['date'])\n",
    "filt1.set_index('date', inplace=True)\n"
   ]
  },
  {
   "cell_type": "code",
   "execution_count": 30,
   "id": "4dd7635b",
   "metadata": {
    "scrolled": false
   },
   "outputs": [
    {
     "name": "stdout",
     "output_type": "stream",
     "text": [
      "the projected number of domestic vistors 6.26 M\n"
     ]
    }
   ],
   "source": [
    "filt=filt[filt['year']==2019]\n",
    "vis_2019_dom=filt['visitors'].sum()\n",
    "proj_dom=vis_2019_dom*(1+(-0.1235))**6\n",
    "print(f\"the projected number of domestic vistors {round(proj_dom,2)} M\")\n"
   ]
  },
  {
   "cell_type": "markdown",
   "id": "13fcc46d",
   "metadata": {},
   "source": [
    "the projected number of foreign visitors to Hyderabad in 2025"
   ]
  },
  {
   "cell_type": "code",
   "execution_count": 31,
   "id": "89bc711b",
   "metadata": {},
   "outputs": [
    {
     "name": "stdout",
     "output_type": "stream",
     "text": [
      "the projected number of foreign vistors 0.87 M\n"
     ]
    }
   ],
   "source": [
    "filt1=filt1[filt1['year']==2019]\n",
    "vis_2019_for=filt1['visitors'].sum()\n",
    "proj_for=vis_2019_for*(1+(0.1819))**6\n",
    "print(f\"the projected number of foreign vistors {round(proj_for,2)} M\")"
   ]
  },
  {
   "cell_type": "code",
   "execution_count": 32,
   "id": "f043f04e",
   "metadata": {},
   "outputs": [
    {
     "data": {
      "image/png": "[encoded data removed]",
      "text/plain": [
       "<Figure size 576x432 with 1 Axes>"
      ]
     },
     "metadata": {
      "needs_background": "light"
     },
     "output_type": "display_data"
    }
   ],
   "source": [
    "import matplotlib.ticker as ticker\n",
    "labels = ['Domestic Visitors 2019','Domestic Visitors 2025']\n",
    "values1 = proj_dom\n",
    "values2=vis_2019_dom\n",
    "val=[values2,values1]\n",
    "colors=['blue','orange']\n",
    "plt.figure(figsize=(8, 6))\n",
    "plt.bar(labels, val,color=colors)\n",
    "plt.title('Predicted Domestic Visitors in 2025')\n",
    "plt.xlabel('Visitor Types')\n",
    "plt.ylabel('Number of Visitors')\n",
    "plt.gca().yaxis.set_major_formatter(ticker.FormatStrFormatter('%.0fM'))\n",
    "for i, v in enumerate(val):\n",
    "    plt.text(i, v+0.2, \"{:.1f}M\".format(v), ha='center')\n"
   ]
  },
  {
   "cell_type": "code",
   "execution_count": 33,
   "id": "d3d89c1d",
   "metadata": {},
   "outputs": [
    {
     "data": {
      "image/png": "[encoded data removed]",
      "text/plain": [
       "<Figure size 576x432 with 1 Axes>"
      ]
     },
     "metadata": {
      "needs_background": "light"
     },
     "output_type": "display_data"
    }
   ],
   "source": [
    "labels = ['Foreign Visitors 2019','Foreign Visitors 2025']\n",
    "values1 = proj_for\n",
    "values2=vis_2019_for\n",
    "val=[values2,values1]\n",
    "colors=['blue','orange']\n",
    "plt.figure(figsize=(8, 6))\n",
    "plt.bar(labels, val,color=colors)\n",
    "plt.title('Predicted Foreign Visitors in 2025')\n",
    "plt.xlabel('Visitor Types')\n",
    "plt.ylabel('Number of Visitors')\n",
    "plt.gca().yaxis.set_major_formatter(ticker.FormatStrFormatter('%.0fM'))\n",
    "for i, v in enumerate(val):\n",
    "    plt.text(i, v, \"{:.1f}M\".format(v), ha='center')"
   ]
  },
  {
   "cell_type": "code",
   "execution_count": 34,
   "id": "e7517936",
   "metadata": {},
   "outputs": [
    {
     "data": {
      "text/plain": [
       "year\n",
       "2019    0.3193\n",
       "Name: visitors, dtype: float64"
      ]
     },
     "execution_count": 34,
     "metadata": {},
     "output_type": "execute_result"
    }
   ],
   "source": [
    "filt1.groupby('year').visitors.sum()"
   ]
  },
  {
   "cell_type": "markdown",
   "id": "8b48df8d",
   "metadata": {},
   "source": [
    "Projected Revenue for domestic and foreign visitor for Hyderabad district in 2025 "
   ]
  },
  {
   "cell_type": "code",
   "execution_count": 53,
   "id": "9eb4411e",
   "metadata": {},
   "outputs": [],
   "source": [
    "domestic_tourist_spend=1200\n",
    "foreign_tourist_spend=5600\n",
    "revenue_generated_domestic_visitor=proj_dom*domestic_tourist_spend\n",
    "revenue_generated_foreign_visitor=proj_for*foreign_tourist_spend"
   ]
  },
  {
   "cell_type": "code",
   "execution_count": 54,
   "id": "6e5c4d01",
   "metadata": {},
   "outputs": [
    {
     "name": "stdout",
     "output_type": "stream",
     "text": [
      "the projected revenue generated from domestic visitor in Hyderabad in 2025 is Rs 7510.11 M \n"
     ]
    }
   ],
   "source": [
    "print(f\"the projected revenue generated from domestic visitor in Hyderabad in 2025 is Rs {round(revenue_generated_domestic_visitor,2)} M \")"
   ]
  },
  {
   "cell_type": "code",
   "execution_count": 55,
   "id": "d5956399",
   "metadata": {},
   "outputs": [
    {
     "data": {
      "image/png": "[encoded data removed]",
      "text/plain": [
       "<Figure size 576x432 with 1 Axes>"
      ]
     },
     "metadata": {
      "needs_background": "light"
     },
     "output_type": "display_data"
    }
   ],
   "source": [
    "import matplotlib.ticker as ticker\n",
    "labels = ['domestic_tourist_revenue_2019','domestic_tourist_revenue_2025']\n",
    "values1 = vis_2019_dom*domestic_tourist_spend\n",
    "values2=proj_dom*domestic_tourist_spend\n",
    "val=[values1,values2]\n",
    "colors=['blue','orange']\n",
    "plt.figure(figsize=(8, 6))\n",
    "plt.bar(labels, val,color=colors)\n",
    "plt.title('Projected Revenue from Domestic visitor in 2025')\n",
    "plt.xlabel('Visitor Types')\n",
    "plt.ylabel('Revenue in million')\n",
    "plt.gca().yaxis.set_major_formatter(ticker.FormatStrFormatter('%.0fM'))\n",
    "for i, v in enumerate(val):\n",
    "    plt.text(i, v+0.3, \"{:.1f}M\".format(v), ha='center')"
   ]
  },
  {
   "cell_type": "code",
   "execution_count": 56,
   "id": "08bd0446",
   "metadata": {},
   "outputs": [
    {
     "name": "stdout",
     "output_type": "stream",
     "text": [
      "the projected revenue generated from foreign visitor in Hyderabad in 2025 is Rs.4873.84 M \n"
     ]
    }
   ],
   "source": [
    "print(f\"the projected revenue generated from foreign visitor in Hyderabad in 2025 is Rs.{round(revenue_generated_foreign_visitor,2)} M \")"
   ]
  },
  {
   "cell_type": "code",
   "execution_count": 57,
   "id": "f763124f",
   "metadata": {},
   "outputs": [
    {
     "data": {
      "image/png": "[encoded data removed]",
      "text/plain": [
       "<Figure size 576x432 with 1 Axes>"
      ]
     },
     "metadata": {
      "needs_background": "light"
     },
     "output_type": "display_data"
    }
   ],
   "source": [
    "labels = ['foreign_tourist_revenue_2019','foreign_tourist_revenue_2025']\n",
    "values1 = vis_2019_for*foreign_tourist_spend\n",
    "values2=proj_for*foreign_tourist_spend\n",
    "val=[values1,values2]\n",
    "colors=['blue','orange']\n",
    "plt.figure(figsize=(8, 6))\n",
    "plt.bar(labels, val,color=colors)\n",
    "plt.title('Projected Revenue from Foreign visitor in 2025')\n",
    "plt.xlabel('Revenue in million')\n",
    "plt.ylabel('Number of Visitors')\n",
    "plt.gca().yaxis.set_major_formatter(ticker.FormatStrFormatter('%.0fM'))\n",
    "for i, v in enumerate(val):\n",
    "     plt.text(i, v+0.2, \"{:.1f}M\".format(v), ha='center')"
   ]
  },
  {
   "cell_type": "code",
   "execution_count": 58,
   "id": "eb3578fb",
   "metadata": {},
   "outputs": [],
   "source": [
    "df6=pd.read_csv('/Users/shashankpatil/Desktop/ResumeChallenge5/merged.csv')"
   ]
  },
  {
   "cell_type": "code",
   "execution_count": 59,
   "id": "4559fc0f",
   "metadata": {},
   "outputs": [
    {
     "data": {
      "text/html": [
       "<div>\n",
       "<style scoped>\n",
       "    .dataframe tbody tr th:only-of-type {\n",
       "        vertical-align: middle;\n",
       "    }\n",
       "\n",
       "    .dataframe tbody tr th {\n",
       "        vertical-align: top;\n",
       "    }\n",
       "\n",
       "    .dataframe thead th {\n",
       "        text-align: right;\n",
       "    }\n",
       "</style>\n",
       "<table border=\"1\" class=\"dataframe\">\n",
       "  <thead>\n",
       "    <tr style=\"text-align: right;\">\n",
       "      <th></th>\n",
       "      <th>district</th>\n",
       "      <th>date</th>\n",
       "      <th>month</th>\n",
       "      <th>year</th>\n",
       "      <th>visitors</th>\n",
       "    </tr>\n",
       "  </thead>\n",
       "  <tbody>\n",
       "    <tr>\n",
       "      <th>0</th>\n",
       "      <td>Adilabad</td>\n",
       "      <td>1/1/2016</td>\n",
       "      <td>January</td>\n",
       "      <td>2016</td>\n",
       "      <td>792136</td>\n",
       "    </tr>\n",
       "    <tr>\n",
       "      <th>1</th>\n",
       "      <td>Adilabad</td>\n",
       "      <td>1/2/2016</td>\n",
       "      <td>February</td>\n",
       "      <td>2016</td>\n",
       "      <td>937820</td>\n",
       "    </tr>\n",
       "    <tr>\n",
       "      <th>2</th>\n",
       "      <td>Adilabad</td>\n",
       "      <td>1/3/2016</td>\n",
       "      <td>March</td>\n",
       "      <td>2016</td>\n",
       "      <td>582946</td>\n",
       "    </tr>\n",
       "    <tr>\n",
       "      <th>3</th>\n",
       "      <td>Adilabad</td>\n",
       "      <td>1/4/2016</td>\n",
       "      <td>April</td>\n",
       "      <td>2016</td>\n",
       "      <td>341948</td>\n",
       "    </tr>\n",
       "    <tr>\n",
       "      <th>4</th>\n",
       "      <td>Adilabad</td>\n",
       "      <td>1/5/2016</td>\n",
       "      <td>May</td>\n",
       "      <td>2016</td>\n",
       "      <td>252887</td>\n",
       "    </tr>\n",
       "    <tr>\n",
       "      <th>...</th>\n",
       "      <td>...</td>\n",
       "      <td>...</td>\n",
       "      <td>...</td>\n",
       "      <td>...</td>\n",
       "      <td>...</td>\n",
       "    </tr>\n",
       "    <tr>\n",
       "      <th>2635</th>\n",
       "      <td>Yadadri Bhongir</td>\n",
       "      <td>1/8/2019</td>\n",
       "      <td>August</td>\n",
       "      <td>2019</td>\n",
       "      <td>0</td>\n",
       "    </tr>\n",
       "    <tr>\n",
       "      <th>2636</th>\n",
       "      <td>Yadadri Bhongir</td>\n",
       "      <td>1/9/2019</td>\n",
       "      <td>September</td>\n",
       "      <td>2019</td>\n",
       "      <td>0</td>\n",
       "    </tr>\n",
       "    <tr>\n",
       "      <th>2637</th>\n",
       "      <td>Yadadri Bhongir</td>\n",
       "      <td>1/10/2019</td>\n",
       "      <td>October</td>\n",
       "      <td>2019</td>\n",
       "      <td>0</td>\n",
       "    </tr>\n",
       "    <tr>\n",
       "      <th>2638</th>\n",
       "      <td>Yadadri Bhongir</td>\n",
       "      <td>1/11/2019</td>\n",
       "      <td>November</td>\n",
       "      <td>2019</td>\n",
       "      <td>0</td>\n",
       "    </tr>\n",
       "    <tr>\n",
       "      <th>2639</th>\n",
       "      <td>Yadadri Bhongir</td>\n",
       "      <td>1/12/2019</td>\n",
       "      <td>December</td>\n",
       "      <td>2019</td>\n",
       "      <td>0</td>\n",
       "    </tr>\n",
       "  </tbody>\n",
       "</table>\n",
       "<p>2640 rows × 5 columns</p>\n",
       "</div>"
      ],
      "text/plain": [
       "             district       date      month  year  visitors\n",
       "0            Adilabad   1/1/2016    January  2016    792136\n",
       "1            Adilabad   1/2/2016   February  2016    937820\n",
       "2            Adilabad   1/3/2016      March  2016    582946\n",
       "3            Adilabad   1/4/2016      April  2016    341948\n",
       "4            Adilabad   1/5/2016        May  2016    252887\n",
       "...               ...        ...        ...   ...       ...\n",
       "2635  Yadadri Bhongir   1/8/2019     August  2019         0\n",
       "2636  Yadadri Bhongir   1/9/2019  September  2019         0\n",
       "2637  Yadadri Bhongir  1/10/2019    October  2019         0\n",
       "2638  Yadadri Bhongir  1/11/2019   November  2019         0\n",
       "2639  Yadadri Bhongir  1/12/2019   December  2019         0\n",
       "\n",
       "[2640 rows x 5 columns]"
      ]
     },
     "execution_count": 59,
     "metadata": {},
     "output_type": "execute_result"
    }
   ],
   "source": [
    "df6"
   ]
  },
  {
   "cell_type": "code",
   "execution_count": null,
   "id": "f212af57",
   "metadata": {},
   "outputs": [],
   "source": []
  },
  {
   "cell_type": "code",
   "execution_count": null,
   "id": "1d70124f",
   "metadata": {},
   "outputs": [],
   "source": []
  },
  {
   "cell_type": "code",
   "execution_count": null,
   "id": "7cb31101",
   "metadata": {},
   "outputs": [],
   "source": []
  },
  {
   "cell_type": "code",
   "execution_count": null,
   "id": "ac6d22f2",
   "metadata": {},
   "outputs": [],
   "source": []
  }
 ],
 "metadata": {
  "kernelspec": {
   "display_name": "Python 3 (ipykernel)",
   "language": "python",
   "name": "python3"
  },
  "language_info": {
   "codemirror_mode": {
    "name": "ipython",
    "version": 3
   },
   "file_extension": ".py",
   "mimetype": "text/x-python",
   "name": "python",
   "nbconvert_exporter": "python",
   "pygments_lexer": "ipython3",
   "version": "3.9.12"
  }
 },
 "nbformat": 4,
 "nbformat_minor": 5
}
